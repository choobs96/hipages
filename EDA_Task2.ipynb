{
 "cells": [
  {
   "cell_type": "markdown",
   "id": "d443e76e",
   "metadata": {},
   "source": [
    "# Installing libraries"
   ]
  },
  {
   "cell_type": "code",
   "execution_count": 2,
   "id": "61205b7f",
   "metadata": {},
   "outputs": [],
   "source": [
    "# !pip3 install pandas numpy matplotlib scikit-learn openpyxl pyarrow scikit-learn seaborn\n"
   ]
  },
  {
   "cell_type": "markdown",
   "id": "1254cfab",
   "metadata": {},
   "source": [
    "# Importing relevant libraries"
   ]
  },
  {
   "cell_type": "code",
   "execution_count": 13,
   "id": "d48c654d",
   "metadata": {},
   "outputs": [],
   "source": [
    "# --- Standard Library ---\n",
    "import os\n",
    "from pathlib import Path\n",
    "from typing import Optional, Dict, List, Tuple\n",
    "from datetime import datetime, timedelta\n",
    "\n",
    "# --- Data Manipulation ---\n",
    "import numpy as np\n",
    "import pandas as pd\n",
    "\n",
    "# --- Visualization ---\n",
    "import matplotlib.pyplot as plt\n",
    "import seaborn as sns\n",
    "\n",
    "# --- Scikit-learn: Model Building & Preprocessing ---\n",
    "from sklearn.model_selection import train_test_split\n",
    "from sklearn.preprocessing import StandardScaler, OneHotEncoder, LabelEncoder\n",
    "from sklearn.compose import ColumnTransformer\n",
    "from sklearn.pipeline import Pipeline\n",
    "from sklearn.feature_selection import SelectKBest, chi2\n",
    "\n",
    "# --- Scikit-learn: Models ---\n",
    "from sklearn.linear_model import LogisticRegression\n",
    "from sklearn.ensemble import RandomForestClassifier\n",
    "\n",
    "# --- Scikit-learn: Metrics ---\n",
    "from sklearn.metrics import (\n",
    "    roc_auc_score, accuracy_score, precision_recall_fscore_support,\n",
    "    classification_report, RocCurveDisplay, confusion_matrix\n",
    ")\n"
   ]
  },
  {
   "cell_type": "markdown",
   "id": "8d22cd6a",
   "metadata": {},
   "source": [
    "# Reading from files"
   ]
  },
  {
   "cell_type": "code",
   "execution_count": 43,
   "id": "b4b3a2ca",
   "metadata": {},
   "outputs": [],
   "source": [
    "INPATH = Path(\"jobs.xlsx\")\n",
    "df = pd.read_excel(INPATH)"
   ]
  },
  {
   "cell_type": "markdown",
   "id": "d16b722c",
   "metadata": {},
   "source": [
    "# Initial Checks"
   ]
  },
  {
   "cell_type": "code",
   "execution_count": 44,
   "id": "06d40366",
   "metadata": {},
   "outputs": [
    {
     "name": "stdout",
     "output_type": "stream",
     "text": [
      "<class 'pandas.core.frame.DataFrame'>\n",
      "RangeIndex: 9999 entries, 0 to 9998\n",
      "Data columns (total 8 columns):\n",
      " #   Column                 Non-Null Count  Dtype         \n",
      "---  ------                 --------------  -----         \n",
      " 0   time_of_post           9999 non-null   datetime64[ns]\n",
      " 1   latitude               9999 non-null   float64       \n",
      " 2   longitude              9999 non-null   float64       \n",
      " 3   category               9999 non-null   int64         \n",
      " 4   number_of_tradies      9999 non-null   int64         \n",
      " 5   estimated_size         9999 non-null   object        \n",
      " 6   number_of_impressions  9889 non-null   float64       \n",
      " 7   accepted               9999 non-null   int64         \n",
      "dtypes: datetime64[ns](1), float64(3), int64(3), object(1)\n",
      "memory usage: 625.1+ KB\n"
     ]
    }
   ],
   "source": [
    "df.info()"
   ]
  },
  {
   "cell_type": "code",
   "execution_count": 45,
   "id": "93b14615",
   "metadata": {},
   "outputs": [
    {
     "data": {
      "text/html": [
       "<div>\n",
       "<style scoped>\n",
       "    .dataframe tbody tr th:only-of-type {\n",
       "        vertical-align: middle;\n",
       "    }\n",
       "\n",
       "    .dataframe tbody tr th {\n",
       "        vertical-align: top;\n",
       "    }\n",
       "\n",
       "    .dataframe thead th {\n",
       "        text-align: right;\n",
       "    }\n",
       "</style>\n",
       "<table border=\"1\" class=\"dataframe\">\n",
       "  <thead>\n",
       "    <tr style=\"text-align: right;\">\n",
       "      <th></th>\n",
       "      <th>time_of_post</th>\n",
       "      <th>latitude</th>\n",
       "      <th>longitude</th>\n",
       "      <th>category</th>\n",
       "      <th>number_of_tradies</th>\n",
       "      <th>estimated_size</th>\n",
       "      <th>number_of_impressions</th>\n",
       "      <th>accepted</th>\n",
       "    </tr>\n",
       "  </thead>\n",
       "  <tbody>\n",
       "    <tr>\n",
       "      <th>0</th>\n",
       "      <td>2019-09-15 11:40:06</td>\n",
       "      <td>-37.8994</td>\n",
       "      <td>144.9799</td>\n",
       "      <td>8</td>\n",
       "      <td>8376</td>\n",
       "      <td>medium</td>\n",
       "      <td>1004.0</td>\n",
       "      <td>0</td>\n",
       "    </tr>\n",
       "    <tr>\n",
       "      <th>1</th>\n",
       "      <td>2019-09-11 15:12:06</td>\n",
       "      <td>-37.8063</td>\n",
       "      <td>144.9964</td>\n",
       "      <td>3</td>\n",
       "      <td>5089</td>\n",
       "      <td>medium</td>\n",
       "      <td>772.0</td>\n",
       "      <td>0</td>\n",
       "    </tr>\n",
       "    <tr>\n",
       "      <th>2</th>\n",
       "      <td>2019-09-10 15:53:06</td>\n",
       "      <td>-37.8901</td>\n",
       "      <td>144.8885</td>\n",
       "      <td>7</td>\n",
       "      <td>3677</td>\n",
       "      <td>small</td>\n",
       "      <td>1103.0</td>\n",
       "      <td>0</td>\n",
       "    </tr>\n",
       "    <tr>\n",
       "      <th>3</th>\n",
       "      <td>2019-09-10 11:38:06</td>\n",
       "      <td>-33.7674</td>\n",
       "      <td>151.1690</td>\n",
       "      <td>3</td>\n",
       "      <td>9732</td>\n",
       "      <td>medium</td>\n",
       "      <td>1111.0</td>\n",
       "      <td>1</td>\n",
       "    </tr>\n",
       "    <tr>\n",
       "      <th>4</th>\n",
       "      <td>2019-09-10 17:38:06</td>\n",
       "      <td>-33.9091</td>\n",
       "      <td>151.2039</td>\n",
       "      <td>6</td>\n",
       "      <td>2476</td>\n",
       "      <td>small</td>\n",
       "      <td>360.0</td>\n",
       "      <td>0</td>\n",
       "    </tr>\n",
       "  </tbody>\n",
       "</table>\n",
       "</div>"
      ],
      "text/plain": [
       "         time_of_post  latitude  longitude  category  number_of_tradies  \\\n",
       "0 2019-09-15 11:40:06  -37.8994   144.9799         8               8376   \n",
       "1 2019-09-11 15:12:06  -37.8063   144.9964         3               5089   \n",
       "2 2019-09-10 15:53:06  -37.8901   144.8885         7               3677   \n",
       "3 2019-09-10 11:38:06  -33.7674   151.1690         3               9732   \n",
       "4 2019-09-10 17:38:06  -33.9091   151.2039         6               2476   \n",
       "\n",
       "  estimated_size  number_of_impressions  accepted  \n",
       "0         medium                 1004.0         0  \n",
       "1         medium                  772.0         0  \n",
       "2          small                 1103.0         0  \n",
       "3         medium                 1111.0         1  \n",
       "4          small                  360.0         0  "
      ]
     },
     "execution_count": 45,
     "metadata": {},
     "output_type": "execute_result"
    }
   ],
   "source": [
    "df.head()"
   ]
  },
  {
   "cell_type": "code",
   "execution_count": 46,
   "id": "235f7bef",
   "metadata": {},
   "outputs": [
    {
     "name": "stdout",
     "output_type": "stream",
     "text": [
      "Rows: 9,999  Cols: 8\n"
     ]
    }
   ],
   "source": [
    "print(f\"Rows: {len(df):,}  Cols: {df.shape[1]}\")\n"
   ]
  },
  {
   "cell_type": "code",
   "execution_count": 47,
   "id": "1f143aab",
   "metadata": {},
   "outputs": [
    {
     "data": {
      "text/plain": [
       "time_of_post               0\n",
       "latitude                   0\n",
       "longitude                  0\n",
       "category                   0\n",
       "number_of_tradies          0\n",
       "estimated_size             0\n",
       "number_of_impressions    110\n",
       "accepted                   0\n",
       "dtype: int64"
      ]
     },
     "execution_count": 47,
     "metadata": {},
     "output_type": "execute_result"
    }
   ],
   "source": [
    "df.isna().sum()\n"
   ]
  },
  {
   "cell_type": "code",
   "execution_count": 48,
   "id": "3c509c6c",
   "metadata": {},
   "outputs": [
    {
     "name": "stdout",
     "output_type": "stream",
     "text": [
      "Duplicate rows: 0\n"
     ]
    }
   ],
   "source": [
    "print(\"Duplicate rows:\", int(df.duplicated().sum()))"
   ]
  },
  {
   "cell_type": "code",
   "execution_count": 49,
   "id": "1b7bf2eb",
   "metadata": {},
   "outputs": [
    {
     "name": "stdout",
     "output_type": "stream",
     "text": [
      "                        count      mean       std      min       25%  \\\n",
      "latitude               9999.0   -34.614     4.787  -38.222   -37.799   \n",
      "longitude              9999.0   146.509     7.079  121.939   144.938   \n",
      "category               9999.0     4.820     1.858    1.000     3.000   \n",
      "number_of_tradies      9999.0  4225.785  3020.932  355.000  1627.000   \n",
      "number_of_impressions  9889.0  1015.829   481.731 -745.000   689.000   \n",
      "accepted               9999.0     0.264     0.441    0.000     0.000   \n",
      "\n",
      "                            50%       75%        max  \n",
      "latitude                -34.001   -33.842    -17.548  \n",
      "longitude               145.139   151.206    151.543  \n",
      "category                  5.000     6.000      9.000  \n",
      "number_of_tradies      3677.000  7267.000  10000.000  \n",
      "number_of_impressions  1007.000  1339.000   3245.000  \n",
      "accepted                  0.000     1.000      1.000  \n"
     ]
    }
   ],
   "source": [
    "print(df.describe(include=[np.number]).T.round(3))"
   ]
  },
  {
   "cell_type": "markdown",
   "id": "8dd6f8fe",
   "metadata": {},
   "source": [
    "# DATA CLEANING"
   ]
  },
  {
   "cell_type": "code",
   "execution_count": 50,
   "id": "24cdea50",
   "metadata": {},
   "outputs": [
    {
     "data": {
      "text/plain": [
       "Index(['time_of_post', 'latitude', 'longitude', 'category',\n",
       "       'number_of_tradies', 'estimated_size', 'number_of_impressions',\n",
       "       'accepted'],\n",
       "      dtype='object')"
      ]
     },
     "execution_count": 50,
     "metadata": {},
     "output_type": "execute_result"
    }
   ],
   "source": [
    "df.columns"
   ]
  },
  {
   "cell_type": "code",
   "execution_count": 51,
   "id": "cf1b532f",
   "metadata": {},
   "outputs": [
    {
     "data": {
      "text/plain": [
       "array([0, 1])"
      ]
     },
     "execution_count": 51,
     "metadata": {},
     "output_type": "execute_result"
    }
   ],
   "source": [
    "df['accepted'].unique()"
   ]
  },
  {
   "cell_type": "code",
   "execution_count": 52,
   "id": "819dd218",
   "metadata": {},
   "outputs": [
    {
     "name": "stdout",
     "output_type": "stream",
     "text": [
      "2019-09-16 22:54:06 2019-09-10 00:01:06\n"
     ]
    }
   ],
   "source": [
    "print(df['time_of_post'].max(),df['time_of_post'].min())"
   ]
  },
  {
   "cell_type": "markdown",
   "id": "f2b1739c",
   "metadata": {},
   "source": [
    "## Impression has NaN AND <0"
   ]
  },
  {
   "cell_type": "code",
   "execution_count": 53,
   "id": "bf46b3ae",
   "metadata": {},
   "outputs": [
    {
     "data": {
      "text/plain": [
       "8483   -745.0\n",
       "1495   -718.0\n",
       "2031   -642.0\n",
       "6064   -555.0\n",
       "6820   -545.0\n",
       "        ...  \n",
       "9502      NaN\n",
       "9517      NaN\n",
       "9552      NaN\n",
       "9653      NaN\n",
       "9864      NaN\n",
       "Name: number_of_impressions, Length: 9999, dtype: float64"
      ]
     },
     "execution_count": 53,
     "metadata": {},
     "output_type": "execute_result"
    }
   ],
   "source": [
    "df['number_of_impressions'].sort_values(ascending=True)\n"
   ]
  },
  {
   "cell_type": "code",
   "execution_count": 54,
   "id": "be9f3502",
   "metadata": {},
   "outputs": [
    {
     "data": {
      "text/plain": [
       "array(['medium', 'small'], dtype=object)"
      ]
     },
     "execution_count": 54,
     "metadata": {},
     "output_type": "execute_result"
    }
   ],
   "source": [
    "df[\"estimated_size\"].unique()"
   ]
  },
  {
   "cell_type": "code",
   "execution_count": 55,
   "id": "1393e5b3",
   "metadata": {},
   "outputs": [
    {
     "data": {
      "text/plain": [
       "9999"
      ]
     },
     "execution_count": 55,
     "metadata": {},
     "output_type": "execute_result"
    }
   ],
   "source": [
    "len(df)"
   ]
  },
  {
   "cell_type": "code",
   "execution_count": 56,
   "id": "00d3e295",
   "metadata": {},
   "outputs": [],
   "source": [
    "df = df.dropna()\n",
    "df = df[df['number_of_impressions'] > 0]"
   ]
  },
  {
   "cell_type": "code",
   "execution_count": 58,
   "id": "123ec92f",
   "metadata": {},
   "outputs": [
    {
     "data": {
      "text/plain": [
       "9760"
      ]
     },
     "execution_count": 58,
     "metadata": {},
     "output_type": "execute_result"
    }
   ],
   "source": [
    "len(df)"
   ]
  },
  {
   "cell_type": "code",
   "execution_count": 59,
   "id": "400cd4f8",
   "metadata": {},
   "outputs": [
    {
     "name": "stdout",
     "output_type": "stream",
     "text": [
      "Data prepared. X shape: (9760, 6) Imbalance: accepted\n",
      "0    0.735861\n",
      "1    0.264139\n",
      "Name: proportion, dtype: float64\n"
     ]
    }
   ],
   "source": [
    "\n",
    "\n",
    "df['hour'] = df['time_of_post'].dt.hour\n",
    "\n",
    "# Feature engineering: Region from lat/lon\n",
    "def get_region(lat, lon):\n",
    "    if lat > -20 and lon > 120 and lon < 125:  # Broome approx\n",
    "        return 'WA'\n",
    "    elif lat > -35 and lat < -32 and lon > 150:  # Sydney approx\n",
    "        return 'NSW'\n",
    "    elif lat > -39 and lat < -36 and lon > 144 and lon < 146:  # Melbourne approx\n",
    "        return 'VIC'\n",
    "    else:\n",
    "        return 'Other'\n",
    "\n",
    "df['region'] = df.apply(lambda row: get_region(row['latitude'], row['longitude']), axis=1)\n",
    "\n",
    "# # Handle missing/negatives in impressions\n",
    "# df['number_of_impressions'] = df['number_of_impressions'].replace('', np.nan)\n",
    "# df['number_of_impressions'].fillna(df['number_of_impressions'].median(), inplace=True)\n",
    "# df['number_of_impressions'] = df['number_of_impressions'].abs()\n",
    "# df = df[df['number_of_impressions'] >= 0]\n",
    "\n",
    "# Encode categoricals\n",
    "le_size = LabelEncoder()\n",
    "df['estimated_size_encoded'] = le_size.fit_transform(df['estimated_size'])\n",
    "le_region = LabelEncoder()\n",
    "df['region_encoded'] = le_region.fit_transform(df['region'])\n",
    "\n",
    "# Select features (exclude lat/lon if redundant with region)\n",
    "features = ['hour', 'number_of_tradies', 'number_of_impressions', 'estimated_size_encoded', 'region_encoded', 'category']\n",
    "X = df[features]\n",
    "y = df['accepted']\n",
    "\n",
    "# Train-test split\n",
    "X_train, X_test, y_train, y_test = train_test_split(X, y, test_size=0.2, random_state=42, stratify=y)\n",
    "\n",
    "print(\"Data prepared. X shape:\", X.shape, \"Imbalance:\", y.value_counts(normalize=True))"
   ]
  },
  {
   "cell_type": "code",
   "execution_count": 60,
   "id": "15d30ee0",
   "metadata": {},
   "outputs": [
    {
     "name": "stdout",
     "output_type": "stream",
     "text": [
      "                  Feature  Chi2 Score\n",
      "3  estimated_size_encoded  212.837542\n",
      "1       number_of_tradies  102.785140\n",
      "0                    hour   72.018092\n",
      "4          region_encoded    4.959017\n",
      "5                category    0.667244\n",
      "2   number_of_impressions    0.000646\n",
      "                  Feature  Importance\n",
      "0                    hour    0.073873\n",
      "3  estimated_size_encoded    0.031660\n",
      "2   number_of_impressions    0.008811\n",
      "1       number_of_tradies    0.008453\n",
      "4          region_encoded   -0.001895\n",
      "5                category   -0.015676\n"
     ]
    }
   ],
   "source": [
    "from sklearn.inspection import permutation_importance\n",
    "from sklearn.preprocessing import MinMaxScaler\n",
    "from sklearn.feature_selection import SelectKBest, chi2\n",
    "\n",
    "# --- Fix chi2 (scale to non-negative) ---\n",
    "scaler = MinMaxScaler()\n",
    "X_train_scaled = scaler.fit_transform(X_train)\n",
    "X_test_scaled = scaler.transform(X_test)\n",
    "\n",
    "selector = SelectKBest(score_func=chi2, k=4)\n",
    "X_train_selected = selector.fit_transform(X_train_scaled, y_train)\n",
    "X_test_selected = selector.transform(X_test_scaled)\n",
    "\n",
    "chi_scores = pd.DataFrame({\n",
    "    'Feature': features,\n",
    "    'Chi2 Score': selector.scores_\n",
    "}).sort_values('Chi2 Score', ascending=False)\n",
    "print(chi_scores)\n",
    "\n",
    "# --- Permutation importance ---\n",
    "rf = RandomForestClassifier(n_estimators=200, random_state=42)\n",
    "rf.fit(X_train, y_train)\n",
    "\n",
    "perm = permutation_importance(rf, X_test, y_test, n_repeats=10, random_state=42)\n",
    "perm_importance = pd.DataFrame({\n",
    "    'Feature': features,\n",
    "    'Importance': perm.importances_mean\n",
    "}).sort_values('Importance', ascending=False)\n",
    "print(perm_importance)\n"
   ]
  },
  {
   "cell_type": "code",
   "execution_count": 61,
   "id": "22f008e0",
   "metadata": {},
   "outputs": [
    {
     "name": "stdout",
     "output_type": "stream",
     "text": [
      "                            hour  number_of_tradies  region_encoded  \\\n",
      "hour                    1.000000          -0.009790        0.000172   \n",
      "number_of_tradies      -0.009790           1.000000        0.198672   \n",
      "region_encoded          0.000172           0.198672        1.000000   \n",
      "number_of_impressions   0.003855           0.008589       -0.010727   \n",
      "estimated_size_encoded  0.007238          -0.016083       -0.001597   \n",
      "category                0.002345          -0.077495       -0.011907   \n",
      "accepted                0.295683           0.232365        0.047408   \n",
      "\n",
      "                        number_of_impressions  estimated_size_encoded  \\\n",
      "hour                                 0.003855                0.007238   \n",
      "number_of_tradies                    0.008589               -0.016083   \n",
      "region_encoded                      -0.010727               -0.001597   \n",
      "number_of_impressions                1.000000               -0.013957   \n",
      "estimated_size_encoded              -0.013957                1.000000   \n",
      "category                             0.008201                0.001049   \n",
      "accepted                             0.001236               -0.229945   \n",
      "\n",
      "                        category  accepted  \n",
      "hour                    0.002345  0.295683  \n",
      "number_of_tradies      -0.077495  0.232365  \n",
      "region_encoded         -0.011907  0.047408  \n",
      "number_of_impressions   0.008201  0.001236  \n",
      "estimated_size_encoded  0.001049 -0.229945  \n",
      "category                1.000000 -0.027716  \n",
      "accepted               -0.027716  1.000000  \n"
     ]
    }
   ],
   "source": [
    "correlation_matrix = df[['hour', 'number_of_tradies','region_encoded', 'number_of_impressions', 'estimated_size_encoded', 'category','accepted']].corr()\n",
    "print(correlation_matrix)"
   ]
  },
  {
   "cell_type": "code",
   "execution_count": 62,
   "id": "d6e74ed8",
   "metadata": {},
   "outputs": [
    {
     "data": {
      "text/plain": [
       "hour                      0.295683\n",
       "number_of_tradies         0.232365\n",
       "region_encoded            0.047408\n",
       "number_of_impressions     0.001236\n",
       "estimated_size_encoded   -0.229945\n",
       "category                 -0.027716\n",
       "accepted                  1.000000\n",
       "Name: accepted, dtype: float64"
      ]
     },
     "execution_count": 62,
     "metadata": {},
     "output_type": "execute_result"
    }
   ],
   "source": [
    "correlation_matrix['accepted']"
   ]
  },
  {
   "cell_type": "code",
   "execution_count": 63,
   "id": "c7748c6c",
   "metadata": {},
   "outputs": [
    {
     "data": {
      "image/png": "[encoded data removed]",
      "text/plain": [
       "<Figure size 640x480 with 2 Axes>"
      ]
     },
     "metadata": {},
     "output_type": "display_data"
    }
   ],
   "source": [
    "# Correlation among features only\n",
    "feat_corr = X_train.corr(numeric_only=True)\n",
    "sns.heatmap(feat_corr, cmap=\"vlag\", center=0)\n",
    "plt.title(\"Feature–Feature Correlation\")\n",
    "plt.show()\n"
   ]
  },
  {
   "cell_type": "code",
   "execution_count": 65,
   "id": "7ba3cff3",
   "metadata": {},
   "outputs": [
    {
     "name": "stdout",
     "output_type": "stream",
     "text": [
      "\n",
      "=== Logistic Regression ===\n",
      "Accuracy  : 0.7269\n",
      "Precision : 0.4886\n",
      "Recall    : 0.7054\n",
      "F1-score  : 0.5773\n",
      "ROC AUC   : 0.7818\n",
      "\n",
      "Classification Report:\n",
      "               precision    recall  f1-score   support\n",
      "\n",
      "           0       0.87      0.73      0.80      1436\n",
      "           1       0.49      0.71      0.58       516\n",
      "\n",
      "    accuracy                           0.73      1952\n",
      "   macro avg       0.68      0.72      0.69      1952\n",
      "weighted avg       0.77      0.73      0.74      1952\n",
      "\n",
      "Confusion Matrix:\n",
      " [[1055  381]\n",
      " [ 152  364]]\n"
     ]
    },
    {
     "data": {
      "image/png": "[encoded data removed]",
      "text/plain": [
       "<Figure size 640x480 with 1 Axes>"
      ]
     },
     "metadata": {},
     "output_type": "display_data"
    }
   ],
   "source": [
    "# ============================\n",
    "# Logistic Regression\n",
    "# ============================\n",
    "from sklearn.linear_model import LogisticRegression\n",
    "from sklearn.metrics import (\n",
    "    accuracy_score, precision_recall_fscore_support,\n",
    "    classification_report, roc_auc_score, RocCurveDisplay,\n",
    "    confusion_matrix\n",
    ")\n",
    "import matplotlib.pyplot as plt\n",
    "\n",
    "# Logistic Regression with balanced class weights (good for imbalance)\n",
    "logreg = LogisticRegression(max_iter=2000, class_weight=\"balanced\", solver=\"lbfgs\")\n",
    "logreg.fit(X_train, y_train)\n",
    "\n",
    "y_pred_lr = logreg.predict(X_test)\n",
    "y_score_lr = logreg.predict_proba(X_test)[:, 1]\n",
    "\n",
    "# Metrics\n",
    "acc = accuracy_score(y_test, y_pred_lr)\n",
    "prec, rec, f1, _ = precision_recall_fscore_support(y_test, y_pred_lr, average=\"binary\", zero_division=0)\n",
    "roc = roc_auc_score(y_test, y_score_lr)\n",
    "\n",
    "print(\"\\n=== Logistic Regression ===\")\n",
    "print(f\"Accuracy  : {acc:.4f}\")\n",
    "print(f\"Precision : {prec:.4f}\")\n",
    "print(f\"Recall    : {rec:.4f}\")\n",
    "print(f\"F1-score  : {f1:.4f}\")\n",
    "print(f\"ROC AUC   : {roc:.4f}\")\n",
    "print(\"\\nClassification Report:\\n\", classification_report(y_test, y_pred_lr, zero_division=0))\n",
    "\n",
    "# Confusion Matrix\n",
    "cm = confusion_matrix(y_test, y_pred_lr)\n",
    "print(\"Confusion Matrix:\\n\", cm)\n",
    "\n",
    "# ROC Curve\n",
    "RocCurveDisplay.from_estimator(logreg, X_test, y_test)\n",
    "plt.title(\"ROC Curve — Logistic Regression\")\n",
    "plt.show()"
   ]
  },
  {
   "cell_type": "code",
   "execution_count": 66,
   "id": "6677f11f",
   "metadata": {},
   "outputs": [
    {
     "name": "stdout",
     "output_type": "stream",
     "text": [
      "\n",
      "=== Random Forest ===\n",
      "Accuracy  : 0.7480\n",
      "Precision : 0.5305\n",
      "Recall    : 0.4050\n",
      "F1-score  : 0.4593\n",
      "ROC AUC   : 0.7459\n",
      "\n",
      "Classification Report:\n",
      "               precision    recall  f1-score   support\n",
      "\n",
      "           0       0.80      0.87      0.84      1436\n",
      "           1       0.53      0.41      0.46       516\n",
      "\n",
      "    accuracy                           0.75      1952\n",
      "   macro avg       0.67      0.64      0.65      1952\n",
      "weighted avg       0.73      0.75      0.74      1952\n",
      "\n",
      "Confusion Matrix:\n",
      " [[1251  185]\n",
      " [ 307  209]]\n"
     ]
    },
    {
     "data": {
      "image/png": "[encoded data removed]",
      "text/plain": [
       "<Figure size 640x480 with 1 Axes>"
      ]
     },
     "metadata": {},
     "output_type": "display_data"
    }
   ],
   "source": [
    "# ============================\n",
    "# Random Forest\n",
    "# ============================\n",
    "from sklearn.ensemble import RandomForestClassifier\n",
    "\n",
    "rf = RandomForestClassifier(\n",
    "    n_estimators=300,\n",
    "    class_weight=\"balanced\",\n",
    "    random_state=42,\n",
    "    n_jobs=-1\n",
    ")\n",
    "rf.fit(X_train, y_train)\n",
    "\n",
    "y_pred_rf = rf.predict(X_test)\n",
    "y_score_rf = rf.predict_proba(X_test)[:, 1]\n",
    "\n",
    "# Metrics\n",
    "acc = accuracy_score(y_test, y_pred_rf)\n",
    "prec, rec, f1, _ = precision_recall_fscore_support(y_test, y_pred_rf, average=\"binary\", zero_division=0)\n",
    "roc = roc_auc_score(y_test, y_score_rf)\n",
    "\n",
    "print(\"\\n=== Random Forest ===\")\n",
    "print(f\"Accuracy  : {acc:.4f}\")\n",
    "print(f\"Precision : {prec:.4f}\")\n",
    "print(f\"Recall    : {rec:.4f}\")\n",
    "print(f\"F1-score  : {f1:.4f}\")\n",
    "print(f\"ROC AUC   : {roc:.4f}\")\n",
    "print(\"\\nClassification Report:\\n\", classification_report(y_test, y_pred_rf, zero_division=0))\n",
    "\n",
    "# Confusion Matrix\n",
    "cm = confusion_matrix(y_test, y_pred_rf)\n",
    "print(\"Confusion Matrix:\\n\", cm)\n",
    "\n",
    "# ROC Curve\n",
    "RocCurveDisplay.from_estimator(rf, X_test, y_test)\n",
    "plt.title(\"ROC Curve — Random Forest\")\n",
    "plt.show()"
   ]
  },
  {
   "cell_type": "markdown",
   "id": "07977e77",
   "metadata": {},
   "source": [
    "<h1>Logistic Regression</h1>\n",
    "\n",
    "Accuracy 0.73, ROC-AUC 0.78 → solid discrimination.\n",
    "\n",
    "Recall = 0.71 (high) but Precision = 0.49 (low).\n",
    "→ Model catches most accepted jobs (low false negatives), but mislabels quite a few non-accepted as accepted (false positives).\n",
    "\n",
    "Confusion matrix: predicts many 1’s, leading to higher recall but lower precision.\n",
    "\n",
    "<h1>Random Forest</h1>\n",
    "\n",
    "Accuracy 0.75, slightly higher overall than Logistic.\n",
    "\n",
    "Precision 0.53, better than Logistic.\n",
    "\n",
    "Recall 0.41, much lower.\n",
    "→ RF is conservative, predicts fewer accepted jobs, so misses many actual positives but is more precise when it does predict a positive.\n",
    "\n",
    "ROC-AUC 0.74, a bit weaker than Logistic.\n",
    "\n",
    "\n",
    "<h1>Overall</h1>\n",
    "Logistic Regression = higher recall → good if the goal is to not miss potential accepted jobs (more inclusive, but noisier).\n",
    "\n",
    "Random Forest = higher precision → good if the goal is to be confident about predicted acceptances (fewer false positives, but misses many true positives).\n",
    "\n",
    "Recall focus (LogReg): better for lead routing, ensuring jobs that might be accepted aren’t missed.\n",
    "\n",
    "Precision focus (RF): better if follow-up costs are high, and you only want to chase likely acceptances."
   ]
  },
  {
   "cell_type": "markdown",
   "id": "b8b19cd9",
   "metadata": {},
   "source": []
  }
 ],
 "metadata": {
  "kernelspec": {
   "display_name": "Python 3",
   "language": "python",
   "name": "python3"
  },
  "language_info": {
   "codemirror_mode": {
    "name": "ipython",
    "version": 3
   },
   "file_extension": ".py",
   "mimetype": "text/x-python",
   "name": "python",
   "nbconvert_exporter": "python",
   "pygments_lexer": "ipython3",
   "version": "3.9.6"
  }
 },
 "nbformat": 4,
 "nbformat_minor": 5
}
