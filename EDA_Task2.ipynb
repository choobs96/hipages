{
 "cells": [
  {
   "cell_type": "markdown",
   "id": "d443e76e",
   "metadata": {},
   "source": [
    "# Installing libraries"
   ]
  },
  {
   "cell_type": "code",
   "execution_count": 2,
   "id": "61205b7f",
   "metadata": {},
   "outputs": [],
   "source": [
    "# !pip3 install pandas numpy matplotlib scikit-learn openpyxl pyarrow\n"
   ]
  },
  {
   "cell_type": "markdown",
   "id": "1254cfab",
   "metadata": {},
   "source": [
    "# Importing relevant libraries"
   ]
  },
  {
   "cell_type": "code",
   "execution_count": 3,
   "id": "d48c654d",
   "metadata": {},
   "outputs": [
    {
     "name": "stderr",
     "output_type": "stream",
     "text": [
      "Matplotlib is building the font cache; this may take a moment.\n"
     ]
    }
   ],
   "source": [
    "import os\n",
    "from pathlib import Path\n",
    "from typing import Optional, Dict, List, Tuple\n",
    "\n",
    "import numpy as np\n",
    "import pandas as pd\n",
    "import matplotlib.pyplot as plt\n",
    "\n",
    "from sklearn.model_selection import train_test_split\n",
    "from sklearn.preprocessing import StandardScaler, OneHotEncoder\n",
    "from sklearn.compose import ColumnTransformer\n",
    "from sklearn.pipeline import Pipeline\n",
    "from sklearn.linear_model import LogisticRegression\n",
    "from sklearn.ensemble import RandomForestClassifier\n",
    "from sklearn.metrics import (\n",
    "    roc_auc_score, accuracy_score, precision_recall_fscore_support,\n",
    "    classification_report, RocCurveDisplay\n",
    ")"
   ]
  },
  {
   "cell_type": "markdown",
   "id": "8d22cd6a",
   "metadata": {},
   "source": [
    "# Reading from files"
   ]
  },
  {
   "cell_type": "code",
   "execution_count": 4,
   "id": "b4b3a2ca",
   "metadata": {},
   "outputs": [],
   "source": [
    "INPATH = Path(\"jobs.xlsx\")\n",
    "df = pd.read_excel(INPATH)"
   ]
  },
  {
   "cell_type": "markdown",
   "id": "d16b722c",
   "metadata": {},
   "source": [
    "# Initial Checks"
   ]
  },
  {
   "cell_type": "code",
   "execution_count": 137,
   "id": "06d40366",
   "metadata": {},
   "outputs": [
    {
     "name": "stdout",
     "output_type": "stream",
     "text": [
      "<class 'pandas.core.frame.DataFrame'>\n",
      "RangeIndex: 9999 entries, 0 to 9998\n",
      "Data columns (total 8 columns):\n",
      " #   Column                 Non-Null Count  Dtype         \n",
      "---  ------                 --------------  -----         \n",
      " 0   time_of_post           9999 non-null   datetime64[ns]\n",
      " 1   latitude               9999 non-null   float64       \n",
      " 2   longitude              9999 non-null   float64       \n",
      " 3   category               9999 non-null   int64         \n",
      " 4   number_of_tradies      9999 non-null   int64         \n",
      " 5   estimated_size         9999 non-null   object        \n",
      " 6   number_of_impressions  9889 non-null   float64       \n",
      " 7   accepted               9999 non-null   int64         \n",
      "dtypes: datetime64[ns](1), float64(3), int64(3), object(1)\n",
      "memory usage: 625.1+ KB\n"
     ]
    }
   ],
   "source": [
    "df.info()"
   ]
  },
  {
   "cell_type": "code",
   "execution_count": 138,
   "id": "93b14615",
   "metadata": {},
   "outputs": [
    {
     "data": {
      "text/html": [
       "<div>\n",
       "<style scoped>\n",
       "    .dataframe tbody tr th:only-of-type {\n",
       "        vertical-align: middle;\n",
       "    }\n",
       "\n",
       "    .dataframe tbody tr th {\n",
       "        vertical-align: top;\n",
       "    }\n",
       "\n",
       "    .dataframe thead th {\n",
       "        text-align: right;\n",
       "    }\n",
       "</style>\n",
       "<table border=\"1\" class=\"dataframe\">\n",
       "  <thead>\n",
       "    <tr style=\"text-align: right;\">\n",
       "      <th></th>\n",
       "      <th>time_of_post</th>\n",
       "      <th>latitude</th>\n",
       "      <th>longitude</th>\n",
       "      <th>category</th>\n",
       "      <th>number_of_tradies</th>\n",
       "      <th>estimated_size</th>\n",
       "      <th>number_of_impressions</th>\n",
       "      <th>accepted</th>\n",
       "    </tr>\n",
       "  </thead>\n",
       "  <tbody>\n",
       "    <tr>\n",
       "      <th>0</th>\n",
       "      <td>2019-09-15 11:40:06</td>\n",
       "      <td>-37.8994</td>\n",
       "      <td>144.9799</td>\n",
       "      <td>8</td>\n",
       "      <td>8376</td>\n",
       "      <td>medium</td>\n",
       "      <td>1004.0</td>\n",
       "      <td>0</td>\n",
       "    </tr>\n",
       "    <tr>\n",
       "      <th>1</th>\n",
       "      <td>2019-09-11 15:12:06</td>\n",
       "      <td>-37.8063</td>\n",
       "      <td>144.9964</td>\n",
       "      <td>3</td>\n",
       "      <td>5089</td>\n",
       "      <td>medium</td>\n",
       "      <td>772.0</td>\n",
       "      <td>0</td>\n",
       "    </tr>\n",
       "    <tr>\n",
       "      <th>2</th>\n",
       "      <td>2019-09-10 15:53:06</td>\n",
       "      <td>-37.8901</td>\n",
       "      <td>144.8885</td>\n",
       "      <td>7</td>\n",
       "      <td>3677</td>\n",
       "      <td>small</td>\n",
       "      <td>1103.0</td>\n",
       "      <td>0</td>\n",
       "    </tr>\n",
       "    <tr>\n",
       "      <th>3</th>\n",
       "      <td>2019-09-10 11:38:06</td>\n",
       "      <td>-33.7674</td>\n",
       "      <td>151.1690</td>\n",
       "      <td>3</td>\n",
       "      <td>9732</td>\n",
       "      <td>medium</td>\n",
       "      <td>1111.0</td>\n",
       "      <td>1</td>\n",
       "    </tr>\n",
       "    <tr>\n",
       "      <th>4</th>\n",
       "      <td>2019-09-10 17:38:06</td>\n",
       "      <td>-33.9091</td>\n",
       "      <td>151.2039</td>\n",
       "      <td>6</td>\n",
       "      <td>2476</td>\n",
       "      <td>small</td>\n",
       "      <td>360.0</td>\n",
       "      <td>0</td>\n",
       "    </tr>\n",
       "  </tbody>\n",
       "</table>\n",
       "</div>"
      ],
      "text/plain": [
       "         time_of_post  latitude  longitude  category  number_of_tradies  \\\n",
       "0 2019-09-15 11:40:06  -37.8994   144.9799         8               8376   \n",
       "1 2019-09-11 15:12:06  -37.8063   144.9964         3               5089   \n",
       "2 2019-09-10 15:53:06  -37.8901   144.8885         7               3677   \n",
       "3 2019-09-10 11:38:06  -33.7674   151.1690         3               9732   \n",
       "4 2019-09-10 17:38:06  -33.9091   151.2039         6               2476   \n",
       "\n",
       "  estimated_size  number_of_impressions  accepted  \n",
       "0         medium                 1004.0         0  \n",
       "1         medium                  772.0         0  \n",
       "2          small                 1103.0         0  \n",
       "3         medium                 1111.0         1  \n",
       "4          small                  360.0         0  "
      ]
     },
     "execution_count": 138,
     "metadata": {},
     "output_type": "execute_result"
    }
   ],
   "source": [
    "df.head()"
   ]
  },
  {
   "cell_type": "code",
   "execution_count": 139,
   "id": "235f7bef",
   "metadata": {},
   "outputs": [
    {
     "name": "stdout",
     "output_type": "stream",
     "text": [
      "Rows: 9,999  Cols: 8\n"
     ]
    }
   ],
   "source": [
    "print(f\"Rows: {len(df):,}  Cols: {df.shape[1]}\")\n"
   ]
  },
  {
   "cell_type": "code",
   "execution_count": 140,
   "id": "1f143aab",
   "metadata": {},
   "outputs": [
    {
     "data": {
      "text/plain": [
       "time_of_post               0\n",
       "latitude                   0\n",
       "longitude                  0\n",
       "category                   0\n",
       "number_of_tradies          0\n",
       "estimated_size             0\n",
       "number_of_impressions    110\n",
       "accepted                   0\n",
       "dtype: int64"
      ]
     },
     "execution_count": 140,
     "metadata": {},
     "output_type": "execute_result"
    }
   ],
   "source": [
    "df.isna().sum()\n"
   ]
  },
  {
   "cell_type": "code",
   "execution_count": 141,
   "id": "3c509c6c",
   "metadata": {},
   "outputs": [
    {
     "name": "stdout",
     "output_type": "stream",
     "text": [
      "Duplicate rows: 0\n"
     ]
    }
   ],
   "source": [
    "print(\"Duplicate rows:\", int(df.duplicated().sum()))"
   ]
  },
  {
   "cell_type": "code",
   "execution_count": 142,
   "id": "1b7bf2eb",
   "metadata": {},
   "outputs": [
    {
     "name": "stdout",
     "output_type": "stream",
     "text": [
      "                        count      mean       std      min       25%  \\\n",
      "latitude               9999.0   -34.614     4.787  -38.222   -37.799   \n",
      "longitude              9999.0   146.509     7.079  121.939   144.938   \n",
      "category               9999.0     4.820     1.858    1.000     3.000   \n",
      "number_of_tradies      9999.0  4225.785  3020.932  355.000  1627.000   \n",
      "number_of_impressions  9889.0  1015.829   481.731 -745.000   689.000   \n",
      "accepted               9999.0     0.264     0.441    0.000     0.000   \n",
      "\n",
      "                            50%       75%        max  \n",
      "latitude                -34.001   -33.842    -17.548  \n",
      "longitude               145.139   151.206    151.543  \n",
      "category                  5.000     6.000      9.000  \n",
      "number_of_tradies      3677.000  7267.000  10000.000  \n",
      "number_of_impressions  1007.000  1339.000   3245.000  \n",
      "accepted                  0.000     1.000      1.000  \n"
     ]
    }
   ],
   "source": [
    "print(df.describe(include=[np.number]).T.round(3))"
   ]
  },
  {
   "cell_type": "markdown",
   "id": "8dd6f8fe",
   "metadata": {},
   "source": [
    "# DATA CLEANING"
   ]
  },
  {
   "cell_type": "code",
   "execution_count": 143,
   "id": "24cdea50",
   "metadata": {},
   "outputs": [
    {
     "data": {
      "text/plain": [
       "Index(['time_of_post', 'latitude', 'longitude', 'category',\n",
       "       'number_of_tradies', 'estimated_size', 'number_of_impressions',\n",
       "       'accepted'],\n",
       "      dtype='object')"
      ]
     },
     "execution_count": 143,
     "metadata": {},
     "output_type": "execute_result"
    }
   ],
   "source": [
    "df.columns"
   ]
  },
  {
   "cell_type": "code",
   "execution_count": 144,
   "id": "b777e696",
   "metadata": {},
   "outputs": [],
   "source": [
    "df = df.copy()\n",
    "df.columns = (\n",
    "    df.columns.str.strip()\n",
    "                .str.lower()\n",
    "                .str.replace(r\"\\s+\", \"_\", regex=True)\n",
    "                .str.replace(r\"[^0-9a-zA-Z_]\", \"\", regex=True)\n",
    ")"
   ]
  },
  {
   "cell_type": "code",
   "execution_count": 145,
   "id": "cf1b532f",
   "metadata": {},
   "outputs": [
    {
     "data": {
      "text/plain": [
       "array([0, 1])"
      ]
     },
     "execution_count": 145,
     "metadata": {},
     "output_type": "execute_result"
    }
   ],
   "source": [
    "df['accepted'].unique()"
   ]
  },
  {
   "cell_type": "code",
   "execution_count": 146,
   "id": "819dd218",
   "metadata": {},
   "outputs": [
    {
     "name": "stdout",
     "output_type": "stream",
     "text": [
      "2019-09-16 22:54:06 2019-09-10 00:01:06\n"
     ]
    }
   ],
   "source": [
    "print(df['time_of_post'].max(),df['time_of_post'].min())"
   ]
  },
  {
   "cell_type": "code",
   "execution_count": 147,
   "id": "bf46b3ae",
   "metadata": {},
   "outputs": [
    {
     "data": {
      "text/plain": [
       "8483   -745.0\n",
       "1495   -718.0\n",
       "2031   -642.0\n",
       "6064   -555.0\n",
       "6820   -545.0\n",
       "        ...  \n",
       "9502      NaN\n",
       "9517      NaN\n",
       "9552      NaN\n",
       "9653      NaN\n",
       "9864      NaN\n",
       "Name: number_of_impressions, Length: 9999, dtype: float64"
      ]
     },
     "execution_count": 147,
     "metadata": {},
     "output_type": "execute_result"
    }
   ],
   "source": [
    "df['number_of_impressions'].sort_values(ascending=True)\n"
   ]
  },
  {
   "cell_type": "code",
   "execution_count": 148,
   "id": "c208a655",
   "metadata": {},
   "outputs": [
    {
     "data": {
      "text/html": [
       "<div>\n",
       "<style scoped>\n",
       "    .dataframe tbody tr th:only-of-type {\n",
       "        vertical-align: middle;\n",
       "    }\n",
       "\n",
       "    .dataframe tbody tr th {\n",
       "        vertical-align: top;\n",
       "    }\n",
       "\n",
       "    .dataframe thead th {\n",
       "        text-align: right;\n",
       "    }\n",
       "</style>\n",
       "<table border=\"1\" class=\"dataframe\">\n",
       "  <thead>\n",
       "    <tr style=\"text-align: right;\">\n",
       "      <th></th>\n",
       "      <th>time_of_post</th>\n",
       "      <th>latitude</th>\n",
       "      <th>longitude</th>\n",
       "      <th>category</th>\n",
       "      <th>number_of_tradies</th>\n",
       "      <th>estimated_size</th>\n",
       "      <th>number_of_impressions</th>\n",
       "      <th>accepted</th>\n",
       "    </tr>\n",
       "  </thead>\n",
       "  <tbody>\n",
       "    <tr>\n",
       "      <th>70</th>\n",
       "      <td>2019-09-10 15:13:06</td>\n",
       "      <td>-33.7817</td>\n",
       "      <td>150.9731</td>\n",
       "      <td>6</td>\n",
       "      <td>2476</td>\n",
       "      <td>small</td>\n",
       "      <td>-141.0</td>\n",
       "      <td>0</td>\n",
       "    </tr>\n",
       "    <tr>\n",
       "      <th>80</th>\n",
       "      <td>2019-09-10 03:31:06</td>\n",
       "      <td>-34.0169</td>\n",
       "      <td>151.1989</td>\n",
       "      <td>3</td>\n",
       "      <td>9732</td>\n",
       "      <td>small</td>\n",
       "      <td>-47.0</td>\n",
       "      <td>0</td>\n",
       "    </tr>\n",
       "    <tr>\n",
       "      <th>180</th>\n",
       "      <td>2019-09-16 09:26:06</td>\n",
       "      <td>-37.8070</td>\n",
       "      <td>144.9205</td>\n",
       "      <td>5</td>\n",
       "      <td>1058</td>\n",
       "      <td>medium</td>\n",
       "      <td>-82.0</td>\n",
       "      <td>0</td>\n",
       "    </tr>\n",
       "    <tr>\n",
       "      <th>194</th>\n",
       "      <td>2019-09-13 11:41:06</td>\n",
       "      <td>-33.7773</td>\n",
       "      <td>151.2007</td>\n",
       "      <td>6</td>\n",
       "      <td>2476</td>\n",
       "      <td>small</td>\n",
       "      <td>-194.0</td>\n",
       "      <td>0</td>\n",
       "    </tr>\n",
       "    <tr>\n",
       "      <th>199</th>\n",
       "      <td>2019-09-14 10:04:06</td>\n",
       "      <td>-34.0689</td>\n",
       "      <td>151.4036</td>\n",
       "      <td>4</td>\n",
       "      <td>2257</td>\n",
       "      <td>small</td>\n",
       "      <td>-272.0</td>\n",
       "      <td>0</td>\n",
       "    </tr>\n",
       "    <tr>\n",
       "      <th>...</th>\n",
       "      <td>...</td>\n",
       "      <td>...</td>\n",
       "      <td>...</td>\n",
       "      <td>...</td>\n",
       "      <td>...</td>\n",
       "      <td>...</td>\n",
       "      <td>...</td>\n",
       "      <td>...</td>\n",
       "    </tr>\n",
       "    <tr>\n",
       "      <th>9432</th>\n",
       "      <td>2019-09-12 06:07:07</td>\n",
       "      <td>-37.8854</td>\n",
       "      <td>145.0974</td>\n",
       "      <td>6</td>\n",
       "      <td>8260</td>\n",
       "      <td>small</td>\n",
       "      <td>-261.0</td>\n",
       "      <td>0</td>\n",
       "    </tr>\n",
       "    <tr>\n",
       "      <th>9635</th>\n",
       "      <td>2019-09-10 07:19:07</td>\n",
       "      <td>-33.9684</td>\n",
       "      <td>151.2847</td>\n",
       "      <td>5</td>\n",
       "      <td>355</td>\n",
       "      <td>medium</td>\n",
       "      <td>-177.0</td>\n",
       "      <td>0</td>\n",
       "    </tr>\n",
       "    <tr>\n",
       "      <th>9722</th>\n",
       "      <td>2019-09-13 02:23:07</td>\n",
       "      <td>-33.8538</td>\n",
       "      <td>151.2839</td>\n",
       "      <td>8</td>\n",
       "      <td>1627</td>\n",
       "      <td>medium</td>\n",
       "      <td>-286.0</td>\n",
       "      <td>1</td>\n",
       "    </tr>\n",
       "    <tr>\n",
       "      <th>9841</th>\n",
       "      <td>2019-09-11 10:55:07</td>\n",
       "      <td>-37.8823</td>\n",
       "      <td>144.8478</td>\n",
       "      <td>6</td>\n",
       "      <td>8260</td>\n",
       "      <td>medium</td>\n",
       "      <td>-217.0</td>\n",
       "      <td>0</td>\n",
       "    </tr>\n",
       "    <tr>\n",
       "      <th>9994</th>\n",
       "      <td>2019-09-15 13:00:07</td>\n",
       "      <td>-37.8278</td>\n",
       "      <td>145.0547</td>\n",
       "      <td>4</td>\n",
       "      <td>5479</td>\n",
       "      <td>medium</td>\n",
       "      <td>-439.0</td>\n",
       "      <td>1</td>\n",
       "    </tr>\n",
       "  </tbody>\n",
       "</table>\n",
       "<p>129 rows × 8 columns</p>\n",
       "</div>"
      ],
      "text/plain": [
       "            time_of_post  latitude  longitude  category  number_of_tradies  \\\n",
       "70   2019-09-10 15:13:06  -33.7817   150.9731         6               2476   \n",
       "80   2019-09-10 03:31:06  -34.0169   151.1989         3               9732   \n",
       "180  2019-09-16 09:26:06  -37.8070   144.9205         5               1058   \n",
       "194  2019-09-13 11:41:06  -33.7773   151.2007         6               2476   \n",
       "199  2019-09-14 10:04:06  -34.0689   151.4036         4               2257   \n",
       "...                  ...       ...        ...       ...                ...   \n",
       "9432 2019-09-12 06:07:07  -37.8854   145.0974         6               8260   \n",
       "9635 2019-09-10 07:19:07  -33.9684   151.2847         5                355   \n",
       "9722 2019-09-13 02:23:07  -33.8538   151.2839         8               1627   \n",
       "9841 2019-09-11 10:55:07  -37.8823   144.8478         6               8260   \n",
       "9994 2019-09-15 13:00:07  -37.8278   145.0547         4               5479   \n",
       "\n",
       "     estimated_size  number_of_impressions  accepted  \n",
       "70            small                 -141.0         0  \n",
       "80            small                  -47.0         0  \n",
       "180          medium                  -82.0         0  \n",
       "194           small                 -194.0         0  \n",
       "199           small                 -272.0         0  \n",
       "...             ...                    ...       ...  \n",
       "9432          small                 -261.0         0  \n",
       "9635         medium                 -177.0         0  \n",
       "9722         medium                 -286.0         1  \n",
       "9841         medium                 -217.0         0  \n",
       "9994         medium                 -439.0         1  \n",
       "\n",
       "[129 rows x 8 columns]"
      ]
     },
     "execution_count": 148,
     "metadata": {},
     "output_type": "execute_result"
    }
   ],
   "source": [
    "df[df['number_of_impressions'] < 0] "
   ]
  },
  {
   "cell_type": "code",
   "execution_count": 149,
   "id": "0917f3fe",
   "metadata": {},
   "outputs": [
    {
     "data": {
      "text/html": [
       "<div>\n",
       "<style scoped>\n",
       "    .dataframe tbody tr th:only-of-type {\n",
       "        vertical-align: middle;\n",
       "    }\n",
       "\n",
       "    .dataframe tbody tr th {\n",
       "        vertical-align: top;\n",
       "    }\n",
       "\n",
       "    .dataframe thead th {\n",
       "        text-align: right;\n",
       "    }\n",
       "</style>\n",
       "<table border=\"1\" class=\"dataframe\">\n",
       "  <thead>\n",
       "    <tr style=\"text-align: right;\">\n",
       "      <th></th>\n",
       "      <th>time_of_post</th>\n",
       "      <th>latitude</th>\n",
       "      <th>longitude</th>\n",
       "      <th>category</th>\n",
       "      <th>number_of_tradies</th>\n",
       "      <th>estimated_size</th>\n",
       "      <th>number_of_impressions</th>\n",
       "      <th>accepted</th>\n",
       "    </tr>\n",
       "  </thead>\n",
       "  <tbody>\n",
       "    <tr>\n",
       "      <th>40</th>\n",
       "      <td>2019-09-13 17:45:06</td>\n",
       "      <td>-37.7495</td>\n",
       "      <td>145.0112</td>\n",
       "      <td>7</td>\n",
       "      <td>3677</td>\n",
       "      <td>medium</td>\n",
       "      <td>NaN</td>\n",
       "      <td>1</td>\n",
       "    </tr>\n",
       "    <tr>\n",
       "      <th>134</th>\n",
       "      <td>2019-09-13 09:48:06</td>\n",
       "      <td>-37.7390</td>\n",
       "      <td>145.0099</td>\n",
       "      <td>5</td>\n",
       "      <td>1058</td>\n",
       "      <td>medium</td>\n",
       "      <td>NaN</td>\n",
       "      <td>0</td>\n",
       "    </tr>\n",
       "    <tr>\n",
       "      <th>144</th>\n",
       "      <td>2019-09-15 10:08:06</td>\n",
       "      <td>-37.7601</td>\n",
       "      <td>144.9879</td>\n",
       "      <td>4</td>\n",
       "      <td>5479</td>\n",
       "      <td>small</td>\n",
       "      <td>NaN</td>\n",
       "      <td>0</td>\n",
       "    </tr>\n",
       "    <tr>\n",
       "      <th>170</th>\n",
       "      <td>2019-09-12 08:24:06</td>\n",
       "      <td>-33.8774</td>\n",
       "      <td>151.2550</td>\n",
       "      <td>6</td>\n",
       "      <td>2476</td>\n",
       "      <td>medium</td>\n",
       "      <td>NaN</td>\n",
       "      <td>0</td>\n",
       "    </tr>\n",
       "    <tr>\n",
       "      <th>274</th>\n",
       "      <td>2019-09-10 00:51:06</td>\n",
       "      <td>-33.8854</td>\n",
       "      <td>151.2861</td>\n",
       "      <td>5</td>\n",
       "      <td>355</td>\n",
       "      <td>small</td>\n",
       "      <td>NaN</td>\n",
       "      <td>0</td>\n",
       "    </tr>\n",
       "    <tr>\n",
       "      <th>...</th>\n",
       "      <td>...</td>\n",
       "      <td>...</td>\n",
       "      <td>...</td>\n",
       "      <td>...</td>\n",
       "      <td>...</td>\n",
       "      <td>...</td>\n",
       "      <td>...</td>\n",
       "      <td>...</td>\n",
       "    </tr>\n",
       "    <tr>\n",
       "      <th>9502</th>\n",
       "      <td>2019-09-16 12:36:07</td>\n",
       "      <td>-34.0215</td>\n",
       "      <td>151.1496</td>\n",
       "      <td>5</td>\n",
       "      <td>355</td>\n",
       "      <td>small</td>\n",
       "      <td>NaN</td>\n",
       "      <td>0</td>\n",
       "    </tr>\n",
       "    <tr>\n",
       "      <th>9517</th>\n",
       "      <td>2019-09-14 05:48:07</td>\n",
       "      <td>-34.0210</td>\n",
       "      <td>151.2193</td>\n",
       "      <td>2</td>\n",
       "      <td>7331</td>\n",
       "      <td>medium</td>\n",
       "      <td>NaN</td>\n",
       "      <td>0</td>\n",
       "    </tr>\n",
       "    <tr>\n",
       "      <th>9552</th>\n",
       "      <td>2019-09-10 16:04:07</td>\n",
       "      <td>-37.6989</td>\n",
       "      <td>144.9098</td>\n",
       "      <td>4</td>\n",
       "      <td>5479</td>\n",
       "      <td>medium</td>\n",
       "      <td>NaN</td>\n",
       "      <td>1</td>\n",
       "    </tr>\n",
       "    <tr>\n",
       "      <th>9653</th>\n",
       "      <td>2019-09-12 09:45:07</td>\n",
       "      <td>-37.8417</td>\n",
       "      <td>145.0211</td>\n",
       "      <td>4</td>\n",
       "      <td>5479</td>\n",
       "      <td>medium</td>\n",
       "      <td>NaN</td>\n",
       "      <td>0</td>\n",
       "    </tr>\n",
       "    <tr>\n",
       "      <th>9864</th>\n",
       "      <td>2019-09-12 02:20:07</td>\n",
       "      <td>-37.8514</td>\n",
       "      <td>144.9525</td>\n",
       "      <td>6</td>\n",
       "      <td>8260</td>\n",
       "      <td>small</td>\n",
       "      <td>NaN</td>\n",
       "      <td>1</td>\n",
       "    </tr>\n",
       "  </tbody>\n",
       "</table>\n",
       "<p>110 rows × 8 columns</p>\n",
       "</div>"
      ],
      "text/plain": [
       "            time_of_post  latitude  longitude  category  number_of_tradies  \\\n",
       "40   2019-09-13 17:45:06  -37.7495   145.0112         7               3677   \n",
       "134  2019-09-13 09:48:06  -37.7390   145.0099         5               1058   \n",
       "144  2019-09-15 10:08:06  -37.7601   144.9879         4               5479   \n",
       "170  2019-09-12 08:24:06  -33.8774   151.2550         6               2476   \n",
       "274  2019-09-10 00:51:06  -33.8854   151.2861         5                355   \n",
       "...                  ...       ...        ...       ...                ...   \n",
       "9502 2019-09-16 12:36:07  -34.0215   151.1496         5                355   \n",
       "9517 2019-09-14 05:48:07  -34.0210   151.2193         2               7331   \n",
       "9552 2019-09-10 16:04:07  -37.6989   144.9098         4               5479   \n",
       "9653 2019-09-12 09:45:07  -37.8417   145.0211         4               5479   \n",
       "9864 2019-09-12 02:20:07  -37.8514   144.9525         6               8260   \n",
       "\n",
       "     estimated_size  number_of_impressions  accepted  \n",
       "40           medium                    NaN         1  \n",
       "134          medium                    NaN         0  \n",
       "144           small                    NaN         0  \n",
       "170          medium                    NaN         0  \n",
       "274           small                    NaN         0  \n",
       "...             ...                    ...       ...  \n",
       "9502          small                    NaN         0  \n",
       "9517         medium                    NaN         0  \n",
       "9552         medium                    NaN         1  \n",
       "9653         medium                    NaN         0  \n",
       "9864          small                    NaN         1  \n",
       "\n",
       "[110 rows x 8 columns]"
      ]
     },
     "execution_count": 149,
     "metadata": {},
     "output_type": "execute_result"
    }
   ],
   "source": [
    "df[df['number_of_impressions'].isna()] "
   ]
  },
  {
   "cell_type": "code",
   "execution_count": 150,
   "id": "be9f3502",
   "metadata": {},
   "outputs": [
    {
     "data": {
      "text/plain": [
       "array(['medium', 'small'], dtype=object)"
      ]
     },
     "execution_count": 150,
     "metadata": {},
     "output_type": "execute_result"
    }
   ],
   "source": [
    "df[\"estimated_size\"].unique()"
   ]
  },
  {
   "cell_type": "code",
   "execution_count": 151,
   "id": "400cd4f8",
   "metadata": {},
   "outputs": [
    {
     "name": "stdout",
     "output_type": "stream",
     "text": [
      "         time_of_post  latitude  longitude  category  number_of_tradies  \\\n",
      "0 2019-09-15 11:40:06  -37.8994   144.9799         8               8376   \n",
      "1 2019-09-11 15:12:06  -37.8063   144.9964         3               5089   \n",
      "2 2019-09-10 15:53:06  -37.8901   144.8885         7               3677   \n",
      "3 2019-09-10 11:38:06  -33.7674   151.1690         3               9732   \n",
      "4 2019-09-10 17:38:06  -33.9091   151.2039         6               2476   \n",
      "\n",
      "  estimated_size  number_of_impressions  accepted  \n",
      "0         medium                 1004.0         0  \n",
      "1         medium                  772.0         0  \n",
      "2          small                 1103.0         0  \n",
      "3         medium                 1111.0         1  \n",
      "4          small                  360.0         0  \n",
      "<class 'pandas.core.frame.DataFrame'>\n",
      "RangeIndex: 9999 entries, 0 to 9998\n",
      "Data columns (total 8 columns):\n",
      " #   Column                 Non-Null Count  Dtype         \n",
      "---  ------                 --------------  -----         \n",
      " 0   time_of_post           9999 non-null   datetime64[ns]\n",
      " 1   latitude               9999 non-null   float64       \n",
      " 2   longitude              9999 non-null   float64       \n",
      " 3   category               9999 non-null   int64         \n",
      " 4   number_of_tradies      9999 non-null   int64         \n",
      " 5   estimated_size         9999 non-null   object        \n",
      " 6   number_of_impressions  9889 non-null   float64       \n",
      " 7   accepted               9999 non-null   int64         \n",
      "dtypes: datetime64[ns](1), float64(3), int64(3), object(1)\n",
      "memory usage: 625.1+ KB\n",
      "None\n",
      "                        time_of_post     latitude    longitude     category  \\\n",
      "count                           9999  9999.000000  9999.000000  9999.000000   \n",
      "mean   2019-09-13 12:05:54.256725504   -34.613654   146.508822     4.819982   \n",
      "min              2019-09-10 00:01:06   -38.221600   121.939400     1.000000   \n",
      "25%              2019-09-11 16:19:36   -37.799350   144.937650     3.000000   \n",
      "50%              2019-09-13 12:21:06   -34.000800   145.138800     5.000000   \n",
      "75%              2019-09-15 08:16:06   -33.841800   151.206350     6.000000   \n",
      "max              2019-09-16 22:54:06   -17.548400   151.542900     9.000000   \n",
      "std                              NaN     4.786739     7.078573     1.857602   \n",
      "\n",
      "       number_of_tradies  number_of_impressions     accepted  \n",
      "count        9999.000000            9889.000000  9999.000000  \n",
      "mean         4225.784678            1015.828901     0.263626  \n",
      "min           355.000000            -745.000000     0.000000  \n",
      "25%          1627.000000             689.000000     0.000000  \n",
      "50%          3677.000000            1007.000000     0.000000  \n",
      "75%          7267.000000            1339.000000     1.000000  \n",
      "max         10000.000000            3245.000000     1.000000  \n",
      "std          3020.932017             481.730727     0.440621  \n"
     ]
    }
   ],
   "source": [
    "# Import necessary libraries\n",
    "import pandas as pd\n",
    "import numpy as np\n",
    "from datetime import datetime, timedelta\n",
    "import matplotlib.pyplot as plt\n",
    "import seaborn as sns\n",
    "from sklearn.model_selection import train_test_split\n",
    "from sklearn.linear_model import LogisticRegression\n",
    "from sklearn.metrics import accuracy_score, classification_report\n",
    "from sklearn.preprocessing import LabelEncoder, StandardScaler\n",
    "from sklearn.compose import ColumnTransformer\n",
    "from sklearn.preprocessing import OneHotEncoder\n",
    "\n",
    "# Load the data from Excel file\n",
    "df = pd.read_excel('jobs.xlsx')\n",
    "\n",
    "# Display initial info\n",
    "print(df.head())\n",
    "print(df.info())\n",
    "print(df.describe())"
   ]
  },
  {
   "cell_type": "code",
   "execution_count": 152,
   "id": "90a3fa32",
   "metadata": {},
   "outputs": [
    {
     "name": "stderr",
     "output_type": "stream",
     "text": [
      "/var/folders/3r/fpswrq854tqd9qncc8s9jtkr0000gs/T/ipykernel_77329/1328992417.py:11: FutureWarning: A value is trying to be set on a copy of a DataFrame or Series through chained assignment using an inplace method.\n",
      "The behavior will change in pandas 3.0. This inplace method will never work because the intermediate object on which we are setting values always behaves as a copy.\n",
      "\n",
      "For example, when doing 'df[col].method(value, inplace=True)', try using 'df.method({col: value}, inplace=True)' or df[col] = df[col].method(value) instead, to perform the operation inplace on the original object.\n",
      "\n",
      "\n",
      "  df['number_of_impressions'].fillna(impressions_median, inplace=True)\n"
     ]
    }
   ],
   "source": [
    "\n",
    "\n",
    "# Convert time_of_post to datetime\n",
    "df['time_of_post_dt'] = df['time_of_post']\n",
    "\n",
    "# Extract hour and day of week\n",
    "df['hour'] = df['time_of_post_dt'].dt.hour\n",
    "df['day_of_week'] = df['time_of_post_dt'].dt.dayofweek  # 0=Monday, 6=Sunday\n",
    "\n",
    "# Handle missing values in number_of_impressions (impute with median)\n",
    "df['number_of_impressions'] = df['number_of_impressions'].replace('', np.nan)  # If any empty strings\n",
    "impressions_median = df['number_of_impressions'].median()\n",
    "df['number_of_impressions'].fillna(impressions_median, inplace=True)\n",
    "\n",
    "# Handle negative impressions (convert to absolute)\n",
    "df['number_of_impressions'] = df['number_of_impressions'].abs()\n",
    "\n",
    "# Encode estimated_size (assuming 'small' and 'medium')\n",
    "le = LabelEncoder()\n",
    "df['estimated_size_encoded'] = le.fit_transform(df['estimated_size'])\n"
   ]
  },
  {
   "cell_type": "code",
   "execution_count": 153,
   "id": "d5d9ec7e",
   "metadata": {},
   "outputs": [],
   "source": [
    "\n",
    "# Feature engineering: Region based on lat/lon\n",
    "def get_region(lat, lon):\n",
    "    if lat > -20 and lon > 120 and lon < 125:  # Broome approx\n",
    "        return 'Broome'\n",
    "    elif lat > -35 and lat < -32 and lon > 150:  # Sydney approx\n",
    "        return 'Sydney'\n",
    "    elif lat > -39 and lat < -36 and lon > 144 and lon < 146:  # Melbourne approx\n",
    "        return 'Melbourne'\n",
    "    else:\n",
    "        return 'Other'\n",
    "\n",
    "df['region'] = df.apply(lambda row: get_region(row['latitude'], row['longitude']), axis=1)"
   ]
  },
  {
   "cell_type": "code",
   "execution_count": 154,
   "id": "05295faf",
   "metadata": {},
   "outputs": [],
   "source": [
    "\n",
    "\n",
    "# Treat category as categorical\n",
    "df['category'] = df['category'].astype('category')\n",
    "\n",
    "# Check for duplicates and drop if any\n",
    "df.drop_duplicates(inplace=True)"
   ]
  },
  {
   "cell_type": "code",
   "execution_count": 155,
   "id": "05f05bac",
   "metadata": {},
   "outputs": [
    {
     "data": {
      "text/plain": [
       "np.float64(3245.0)"
      ]
     },
     "execution_count": 155,
     "metadata": {},
     "output_type": "execute_result"
    }
   ],
   "source": [
    "df['number_of_impressions'].max()"
   ]
  },
  {
   "cell_type": "code",
   "execution_count": 156,
   "id": "c1aaa873",
   "metadata": {},
   "outputs": [
    {
     "data": {
      "text/plain": [
       "np.float64(1.0)"
      ]
     },
     "execution_count": 156,
     "metadata": {},
     "output_type": "execute_result"
    }
   ],
   "source": [
    "df['number_of_impressions'].min()"
   ]
  },
  {
   "cell_type": "code",
   "execution_count": 157,
   "id": "d32a3d6a",
   "metadata": {},
   "outputs": [
    {
     "name": "stdout",
     "output_type": "stream",
     "text": [
      "accepted\n",
      "0    0.736374\n",
      "1    0.263626\n",
      "Name: proportion, dtype: float64\n",
      "region\n",
      "Broome       0.338462\n",
      "Melbourne    0.270468\n",
      "Sydney       0.247212\n",
      "Name: accepted, dtype: float64\n",
      "estimated_size\n",
      "medium    0.367251\n",
      "small     0.163886\n",
      "Name: accepted, dtype: float64\n",
      "hour\n",
      "0     0.079365\n",
      "1     0.138728\n",
      "2     0.090909\n",
      "3     0.130252\n",
      "4     0.086957\n",
      "5     0.109661\n",
      "6     0.115468\n",
      "7     0.083333\n",
      "8     0.107926\n",
      "9     0.114074\n",
      "10    0.111276\n",
      "11    0.094708\n",
      "12    0.410405\n",
      "13    0.459581\n",
      "14    0.408346\n",
      "15    0.475610\n",
      "16    0.380789\n",
      "17    0.406926\n",
      "18    0.401985\n",
      "19    0.424837\n",
      "20    0.450413\n",
      "21    0.384956\n",
      "22    0.464516\n",
      "Name: accepted, dtype: float64\n",
      "category\n",
      "1    0.268293\n",
      "2    0.235503\n",
      "3    0.394775\n",
      "4    0.261783\n",
      "5    0.157172\n",
      "6    0.299625\n",
      "7    0.261253\n",
      "8    0.252818\n",
      "9    0.293023\n",
      "Name: accepted, dtype: float64\n"
     ]
    },
    {
     "name": "stderr",
     "output_type": "stream",
     "text": [
      "/var/folders/3r/fpswrq854tqd9qncc8s9jtkr0000gs/T/ipykernel_77329/1814388085.py:6: FutureWarning: The default of observed=False is deprecated and will be changed to True in a future version of pandas. Pass observed=False to retain current behavior or observed=True to adopt the future default and silence this warning.\n",
      "  print(df.groupby('category')['accepted'].mean())  # By category\n"
     ]
    }
   ],
   "source": [
    "# Descriptive statistics\n",
    "print(df['accepted'].value_counts(normalize=True))  # Acceptance rate\n",
    "print(df.groupby('region')['accepted'].mean())  # By region\n",
    "print(df.groupby('estimated_size')['accepted'].mean())  # By size\n",
    "print(df.groupby('hour')['accepted'].mean())  # By hour\n",
    "print(df.groupby('category')['accepted'].mean())  # By category"
   ]
  },
  {
   "cell_type": "code",
   "execution_count": 158,
   "id": "94611076",
   "metadata": {},
   "outputs": [
    {
     "data": {
      "image/png": "[encoded data removed]",
      "text/plain": [
       "<Figure size 1000x600 with 1 Axes>"
      ]
     },
     "metadata": {},
     "output_type": "display_data"
    }
   ],
   "source": [
    "\n",
    "\n",
    "# Visualizations\n",
    "# Acceptance by region\n",
    "plt.figure(figsize=(10, 6))\n",
    "sns.barplot(x='region', y='accepted', data=df)\n",
    "plt.title('Acceptance Rate by Region')\n",
    "plt.savefig('acceptance_by_region.png')"
   ]
  },
  {
   "cell_type": "code",
   "execution_count": 159,
   "id": "8a3a2d1e",
   "metadata": {},
   "outputs": [
    {
     "data": {
      "image/png": "[encoded data removed]",
      "text/plain": [
       "<Figure size 1000x600 with 1 Axes>"
      ]
     },
     "metadata": {},
     "output_type": "display_data"
    }
   ],
   "source": [
    "# Acceptance by hour\n",
    "plt.figure(figsize=(10, 6))\n",
    "sns.lineplot(x='hour', y='accepted', data=df.groupby('hour')['accepted'].mean().reset_index())\n",
    "plt.title('Acceptance Rate by Hour of Day')\n",
    "plt.savefig('acceptance_by_hour.png')"
   ]
  },
  {
   "cell_type": "code",
   "execution_count": 160,
   "id": "d9eaf983",
   "metadata": {},
   "outputs": [
    {
     "data": {
      "image/png": "[encoded data removed]",
      "text/plain": [
       "<Figure size 1200x800 with 2 Axes>"
      ]
     },
     "metadata": {},
     "output_type": "display_data"
    }
   ],
   "source": [
    "# Correlation heatmap (numeric features)\n",
    "numeric_df = df.select_dtypes(include=[np.number])\n",
    "corr = numeric_df.corr()\n",
    "plt.figure(figsize=(12, 8))\n",
    "sns.heatmap(corr, annot=True, cmap='coolwarm')\n",
    "plt.title('Correlation Heatmap')\n",
    "plt.savefig('correlation_heatmap.png')\n"
   ]
  },
  {
   "cell_type": "code",
   "execution_count": 161,
   "id": "7acb781b",
   "metadata": {},
   "outputs": [
    {
     "name": "stdout",
     "output_type": "stream",
     "text": [
      "Accuracy: 0.773\n",
      "              precision    recall  f1-score   support\n",
      "\n",
      "           0       0.80      0.92      0.86      1474\n",
      "           1       0.62      0.35      0.45       526\n",
      "\n",
      "    accuracy                           0.77      2000\n",
      "   macro avg       0.71      0.64      0.65      2000\n",
      "weighted avg       0.75      0.77      0.75      2000\n",
      "\n",
      "                     Feature  Coefficient\n",
      "4                       hour     0.837164\n",
      "2          number_of_tradies     0.632169\n",
      "8                 category_4     0.033154\n",
      "7                 category_3     0.028864\n",
      "1                  longitude     0.026042\n",
      "11                category_7     0.019759\n",
      "0                   latitude    -0.011216\n",
      "3      number_of_impressions    -0.012425\n",
      "5                day_of_week    -0.015894\n",
      "9                 category_5    -0.024661\n",
      "10                category_6    -0.038596\n",
      "6                 category_2    -0.063845\n",
      "15          region_Melbourne    -0.192963\n",
      "12                category_8    -0.198508\n",
      "16             region_Sydney    -0.215552\n",
      "13                category_9    -0.230630\n",
      "14  estimated_size_encoded_1    -1.306331\n"
     ]
    },
    {
     "name": "stderr",
     "output_type": "stream",
     "text": [
      "/Users/dev/Library/Python/3.9/lib/python/site-packages/sklearn/linear_model/_linear_loss.py:200: RuntimeWarning: divide by zero encountered in matmul\n",
      "  raw_prediction = X @ weights + intercept\n",
      "/Users/dev/Library/Python/3.9/lib/python/site-packages/sklearn/linear_model/_linear_loss.py:200: RuntimeWarning: overflow encountered in matmul\n",
      "  raw_prediction = X @ weights + intercept\n",
      "/Users/dev/Library/Python/3.9/lib/python/site-packages/sklearn/linear_model/_linear_loss.py:200: RuntimeWarning: invalid value encountered in matmul\n",
      "  raw_prediction = X @ weights + intercept\n",
      "/Users/dev/Library/Python/3.9/lib/python/site-packages/sklearn/linear_model/_linear_loss.py:330: RuntimeWarning: divide by zero encountered in matmul\n",
      "  grad[:n_features] = X.T @ grad_pointwise + l2_reg_strength * weights\n",
      "/Users/dev/Library/Python/3.9/lib/python/site-packages/sklearn/linear_model/_linear_loss.py:330: RuntimeWarning: overflow encountered in matmul\n",
      "  grad[:n_features] = X.T @ grad_pointwise + l2_reg_strength * weights\n",
      "/Users/dev/Library/Python/3.9/lib/python/site-packages/sklearn/linear_model/_linear_loss.py:330: RuntimeWarning: invalid value encountered in matmul\n",
      "  grad[:n_features] = X.T @ grad_pointwise + l2_reg_strength * weights\n",
      "/Users/dev/Library/Python/3.9/lib/python/site-packages/sklearn/utils/extmath.py:203: RuntimeWarning: divide by zero encountered in matmul\n",
      "  ret = a @ b\n",
      "/Users/dev/Library/Python/3.9/lib/python/site-packages/sklearn/utils/extmath.py:203: RuntimeWarning: overflow encountered in matmul\n",
      "  ret = a @ b\n",
      "/Users/dev/Library/Python/3.9/lib/python/site-packages/sklearn/utils/extmath.py:203: RuntimeWarning: invalid value encountered in matmul\n",
      "  ret = a @ b\n"
     ]
    }
   ],
   "source": [
    "# Feature scaling and encoding\n",
    "numeric_features = ['latitude', 'longitude', 'number_of_tradies', 'number_of_impressions', 'hour', 'day_of_week']\n",
    "categorical_features = ['category', 'estimated_size_encoded', 'region']\n",
    "\n",
    "preprocessor = ColumnTransformer(\n",
    "    transformers=[\n",
    "        ('num', StandardScaler(), numeric_features),\n",
    "        ('cat', OneHotEncoder(drop='first', sparse_output=False), categorical_features) \n",
    "    ])\n",
    "\n",
    "# Prepare for modeling\n",
    "X = df[numeric_features + categorical_features]\n",
    "y = df['accepted']\n",
    "\n",
    "# Apply preprocessing\n",
    "X_processed = preprocessor.fit_transform(X)\n",
    "\n",
    "# Train-test split\n",
    "X_train, X_test, y_train, y_test = train_test_split(X_processed, y, test_size=0.2, random_state=42)\n",
    "\n",
    "# Logistic Regression model with increased iterations and regularization\n",
    "model = LogisticRegression(max_iter=1000, C=1.0, penalty='l2', solver='lbfgs')\n",
    "model.fit(X_train, y_train)\n",
    "\n",
    "# Predictions and evaluation\n",
    "y_pred = model.predict(X_test)\n",
    "print('Accuracy:', accuracy_score(y_test, y_pred))\n",
    "print(classification_report(y_test, y_pred))\n",
    "\n",
    "# Feature importance (coefficients)\n",
    "feature_names = (numeric_features + \n",
    "                 preprocessor.named_transformers_['cat'].get_feature_names_out(categorical_features).tolist())\n",
    "coefficients = pd.DataFrame({'Feature': feature_names, 'Coefficient': model.coef_[0]})\n",
    "print(coefficients.sort_values('Coefficient', ascending=False))"
   ]
  },
  {
   "cell_type": "code",
   "execution_count": 162,
   "id": "0730cf6f",
   "metadata": {},
   "outputs": [
    {
     "name": "stdout",
     "output_type": "stream",
     "text": [
      "Accuracy: 0.772\n",
      "              precision    recall  f1-score   support\n",
      "\n",
      "           0       0.80      0.92      0.86      1474\n",
      "           1       0.62      0.35      0.44       526\n",
      "\n",
      "    accuracy                           0.77      2000\n",
      "   macro avg       0.71      0.64      0.65      2000\n",
      "weighted avg       0.75      0.77      0.75      2000\n",
      "\n",
      "                     Feature  Coefficient\n",
      "2                       hour     0.837013\n",
      "0          number_of_tradies     0.631889\n",
      "5                 category_3     0.018828\n",
      "6                 category_4     0.017824\n",
      "9                 category_7     0.009680\n",
      "1      number_of_impressions    -0.012600\n",
      "3                day_of_week    -0.016068\n",
      "7                 category_5    -0.034107\n",
      "8                 category_6    -0.050763\n",
      "13          region_Melbourne    -0.064229\n",
      "14             region_Sydney    -0.072922\n",
      "4                 category_2    -0.079273\n",
      "10                category_8    -0.207421\n",
      "11                category_9    -0.251774\n",
      "12  estimated_size_encoded_1    -1.306429\n"
     ]
    },
    {
     "name": "stderr",
     "output_type": "stream",
     "text": [
      "/Users/dev/Library/Python/3.9/lib/python/site-packages/sklearn/linear_model/_linear_loss.py:200: RuntimeWarning: divide by zero encountered in matmul\n",
      "  raw_prediction = X @ weights + intercept\n",
      "/Users/dev/Library/Python/3.9/lib/python/site-packages/sklearn/linear_model/_linear_loss.py:200: RuntimeWarning: overflow encountered in matmul\n",
      "  raw_prediction = X @ weights + intercept\n",
      "/Users/dev/Library/Python/3.9/lib/python/site-packages/sklearn/linear_model/_linear_loss.py:200: RuntimeWarning: invalid value encountered in matmul\n",
      "  raw_prediction = X @ weights + intercept\n",
      "/Users/dev/Library/Python/3.9/lib/python/site-packages/sklearn/linear_model/_linear_loss.py:330: RuntimeWarning: divide by zero encountered in matmul\n",
      "  grad[:n_features] = X.T @ grad_pointwise + l2_reg_strength * weights\n",
      "/Users/dev/Library/Python/3.9/lib/python/site-packages/sklearn/linear_model/_linear_loss.py:330: RuntimeWarning: overflow encountered in matmul\n",
      "  grad[:n_features] = X.T @ grad_pointwise + l2_reg_strength * weights\n",
      "/Users/dev/Library/Python/3.9/lib/python/site-packages/sklearn/linear_model/_linear_loss.py:330: RuntimeWarning: invalid value encountered in matmul\n",
      "  grad[:n_features] = X.T @ grad_pointwise + l2_reg_strength * weights\n",
      "/Users/dev/Library/Python/3.9/lib/python/site-packages/sklearn/utils/extmath.py:203: RuntimeWarning: divide by zero encountered in matmul\n",
      "  ret = a @ b\n",
      "/Users/dev/Library/Python/3.9/lib/python/site-packages/sklearn/utils/extmath.py:203: RuntimeWarning: overflow encountered in matmul\n",
      "  ret = a @ b\n",
      "/Users/dev/Library/Python/3.9/lib/python/site-packages/sklearn/utils/extmath.py:203: RuntimeWarning: invalid value encountered in matmul\n",
      "  ret = a @ b\n"
     ]
    }
   ],
   "source": [
    "# Feature scaling and encoding\n",
    "numeric_features = ['number_of_tradies', 'number_of_impressions', 'hour', 'day_of_week']\n",
    "categorical_features = ['category', 'estimated_size_encoded', 'region']\n",
    "\n",
    "preprocessor = ColumnTransformer(\n",
    "    transformers=[\n",
    "        ('num', StandardScaler(), numeric_features),\n",
    "        ('cat', OneHotEncoder(drop='first', sparse_output=False), categorical_features) \n",
    "    ])\n",
    "\n",
    "# Prepare for modeling\n",
    "X = df[numeric_features + categorical_features]\n",
    "y = df['accepted']\n",
    "\n",
    "# Apply preprocessing\n",
    "X_processed = preprocessor.fit_transform(X)\n",
    "\n",
    "# Train-test split\n",
    "X_train, X_test, y_train, y_test = train_test_split(X_processed, y, test_size=0.2, random_state=42)\n",
    "\n",
    "# Logistic Regression model with increased iterations and regularization\n",
    "model = LogisticRegression(max_iter=1000, C=1.0, penalty='l2', solver='lbfgs')\n",
    "model.fit(X_train, y_train)\n",
    "\n",
    "# Predictions and evaluation\n",
    "y_pred = model.predict(X_test)\n",
    "print('Accuracy:', accuracy_score(y_test, y_pred))\n",
    "print(classification_report(y_test, y_pred))\n",
    "\n",
    "# Feature importance (coefficients)\n",
    "feature_names = (numeric_features + \n",
    "                 preprocessor.named_transformers_['cat'].get_feature_names_out(categorical_features).tolist())\n",
    "coefficients = pd.DataFrame({'Feature': feature_names, 'Coefficient': model.coef_[0]})\n",
    "print(coefficients.sort_values('Coefficient', ascending=False))"
   ]
  },
  {
   "cell_type": "code",
   "execution_count": 165,
   "id": "c5a4792f",
   "metadata": {},
   "outputs": [
    {
     "data": {
      "image/png": "[encoded data removed]",
      "text/plain": [
       "<Figure size 1000x600 with 1 Axes>"
      ]
     },
     "metadata": {},
     "output_type": "display_data"
    }
   ],
   "source": [
    "import matplotlib.pyplot as plt\n",
    "import pandas as pd\n",
    "from sklearn.ensemble import RandomForestClassifier\n",
    "\n",
    "# Assuming this is your preprocessing\n",
    "X = pd.get_dummies(df[['region', 'estimated_size', 'number_of_impressions', 'number_of_tradies', 'hour']])\n",
    "y = df['accepted']\n",
    "X_train, X_test, y_train, y_test = train_test_split(X, y, test_size=0.2, stratify=y, random_state=42)\n",
    "X_train = X_train.values  # Convert to NumPy array for training\n",
    "X_test = X_test.values\n",
    "\n",
    "# Train the model\n",
    "rf_model = RandomForestClassifier(n_estimators=100, random_state=42, class_weight='balanced')\n",
    "rf_model.fit(X_train, y_train)\n",
    "\n",
    "# Get feature importances\n",
    "importances = rf_model.feature_importances_\n",
    "\n",
    "# Use the column names from the original DataFrame X\n",
    "feature_names = X.columns  # This retains the encoded column names\n",
    "\n",
    "# Plot\n",
    "plt.figure(figsize=(10, 6))\n",
    "plt.bar(range(len(importances)), importances, align='center')\n",
    "plt.xticks(range(len(importances)), feature_names, rotation=45)\n",
    "plt.xlabel('Features')\n",
    "plt.ylabel('Importance')\n",
    "plt.title('Feature Importance in Random Forest')\n",
    "plt.tight_layout()\n",
    "plt.show()"
   ]
  },
  {
   "cell_type": "code",
   "execution_count": null,
   "id": "15d30ee0",
   "metadata": {},
   "outputs": [],
   "source": []
  }
 ],
 "metadata": {
  "kernelspec": {
   "display_name": "Python 3",
   "language": "python",
   "name": "python3"
  },
  "language_info": {
   "codemirror_mode": {
    "name": "ipython",
    "version": 3
   },
   "file_extension": ".py",
   "mimetype": "text/x-python",
   "name": "python",
   "nbconvert_exporter": "python",
   "pygments_lexer": "ipython3",
   "version": "3.9.6"
  }
 },
 "nbformat": 4,
 "nbformat_minor": 5
}
